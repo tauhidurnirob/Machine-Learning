{
  "nbformat": 4,
  "nbformat_minor": 0,
  "metadata": {
    "colab": {
      "name": "LSTM_On_Iris.ipynb",
      "provenance": [],
      "include_colab_link": true
    },
    "kernelspec": {
      "name": "python3",
      "display_name": "Python 3"
    }
  },
  "cells": [
    {
      "cell_type": "markdown",
      "metadata": {
        "id": "view-in-github",
        "colab_type": "text"
      },
      "source": [
        "<a href=\"https://colab.research.google.com/github/tauhidurnirob/Machine-Learning/blob/master/LSTM_On_Iris.ipynb\" target=\"_parent\"><img src=\"https://colab.research.google.com/assets/colab-badge.svg\" alt=\"Open In Colab\"/></a>"
      ]
    },
    {
      "cell_type": "code",
      "metadata": {
        "id": "o-r3TWQW1UsW",
        "colab_type": "code",
        "outputId": "9a5905d8-bcf1-42cb-e3fc-08372348fc8d",
        "colab": {
          "resources": {
            "http://localhost:8080/nbextensions/google.colab/files.js": {
              "data": "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",
              "ok": true,
              "headers": [
                [
                  "content-type",
                  "application/javascript"
                ]
              ],
              "status": 200,
              "status_text": ""
            }
          },
          "base_uri": "https://localhost:8080/",
          "height": 74
        }
      },
      "source": [
        "from google.colab import files\n",
        "uploaded = files.upload()"
      ],
      "execution_count": 0,
      "outputs": [
        {
          "output_type": "display_data",
          "data": {
            "text/html": [
              "\n",
              "     <input type=\"file\" id=\"files-9f562afc-2a5d-428f-953e-e0062794f989\" name=\"files[]\" multiple disabled />\n",
              "     <output id=\"result-9f562afc-2a5d-428f-953e-e0062794f989\">\n",
              "      Upload widget is only available when the cell has been executed in the\n",
              "      current browser session. Please rerun this cell to enable.\n",
              "      </output>\n",
              "      <script src=\"/nbextensions/google.colab/files.js\"></script> "
            ],
            "text/plain": [
              "<IPython.core.display.HTML object>"
            ]
          },
          "metadata": {
            "tags": []
          }
        },
        {
          "output_type": "stream",
          "text": [
            "Saving iris1.csv to iris1.csv\n"
          ],
          "name": "stdout"
        }
      ]
    },
    {
      "cell_type": "code",
      "metadata": {
        "id": "mwq6-B471dht",
        "colab_type": "code",
        "outputId": "b842e2f0-ceba-4e0e-eddb-ea3d1b793186",
        "colab": {
          "base_uri": "https://localhost:8080/",
          "height": 204
        }
      },
      "source": [
        "import pandas as pd\n",
        "data=pd.read_csv(\"iris1.csv\")\n",
        "data.head()"
      ],
      "execution_count": 0,
      "outputs": [
        {
          "output_type": "execute_result",
          "data": {
            "text/html": [
              "<div>\n",
              "<style scoped>\n",
              "    .dataframe tbody tr th:only-of-type {\n",
              "        vertical-align: middle;\n",
              "    }\n",
              "\n",
              "    .dataframe tbody tr th {\n",
              "        vertical-align: top;\n",
              "    }\n",
              "\n",
              "    .dataframe thead th {\n",
              "        text-align: right;\n",
              "    }\n",
              "</style>\n",
              "<table border=\"1\" class=\"dataframe\">\n",
              "  <thead>\n",
              "    <tr style=\"text-align: right;\">\n",
              "      <th></th>\n",
              "      <th>f1</th>\n",
              "      <th>f2</th>\n",
              "      <th>f3</th>\n",
              "      <th>f4</th>\n",
              "      <th>label</th>\n",
              "    </tr>\n",
              "  </thead>\n",
              "  <tbody>\n",
              "    <tr>\n",
              "      <th>0</th>\n",
              "      <td>5.1</td>\n",
              "      <td>3.5</td>\n",
              "      <td>1.4</td>\n",
              "      <td>0.2</td>\n",
              "      <td>Iris-setosa</td>\n",
              "    </tr>\n",
              "    <tr>\n",
              "      <th>1</th>\n",
              "      <td>4.9</td>\n",
              "      <td>3.0</td>\n",
              "      <td>1.4</td>\n",
              "      <td>0.2</td>\n",
              "      <td>Iris-setosa</td>\n",
              "    </tr>\n",
              "    <tr>\n",
              "      <th>2</th>\n",
              "      <td>4.7</td>\n",
              "      <td>3.2</td>\n",
              "      <td>1.3</td>\n",
              "      <td>0.2</td>\n",
              "      <td>Iris-setosa</td>\n",
              "    </tr>\n",
              "    <tr>\n",
              "      <th>3</th>\n",
              "      <td>4.6</td>\n",
              "      <td>3.1</td>\n",
              "      <td>1.5</td>\n",
              "      <td>0.2</td>\n",
              "      <td>Iris-setosa</td>\n",
              "    </tr>\n",
              "    <tr>\n",
              "      <th>4</th>\n",
              "      <td>5.0</td>\n",
              "      <td>3.6</td>\n",
              "      <td>1.4</td>\n",
              "      <td>0.2</td>\n",
              "      <td>Iris-setosa</td>\n",
              "    </tr>\n",
              "  </tbody>\n",
              "</table>\n",
              "</div>"
            ],
            "text/plain": [
              "    f1   f2   f3   f4        label\n",
              "0  5.1  3.5  1.4  0.2  Iris-setosa\n",
              "1  4.9  3.0  1.4  0.2  Iris-setosa\n",
              "2  4.7  3.2  1.3  0.2  Iris-setosa\n",
              "3  4.6  3.1  1.5  0.2  Iris-setosa\n",
              "4  5.0  3.6  1.4  0.2  Iris-setosa"
            ]
          },
          "metadata": {
            "tags": []
          },
          "execution_count": 41
        }
      ]
    },
    {
      "cell_type": "code",
      "metadata": {
        "id": "U2Nka89dKijE",
        "colab_type": "code",
        "colab": {}
      },
      "source": [
        "import matplotlib.pyplot as plt\n",
        "import tensorflow as tf\n",
        "import pandas as pd\n",
        "import numpy as np\n",
        "from sklearn.model_selection import train_test_split\n",
        "\n",
        "#for encoding\n",
        "from sklearn.preprocessing import LabelEncoder\n",
        "from keras.utils import np_utils"
      ],
      "execution_count": 0,
      "outputs": []
    },
    {
      "cell_type": "code",
      "metadata": {
        "id": "XdgLkfFd2Mid",
        "colab_type": "code",
        "colab": {}
      },
      "source": [
        "import numpy as np\n",
        "import matplotlib.pyplot as plt\n",
        "X = data.iloc[:, :-1].values\n",
        "y = data.iloc[:, 4].values"
      ],
      "execution_count": 0,
      "outputs": []
    },
    {
      "cell_type": "code",
      "metadata": {
        "id": "cA16yhHxK8_i",
        "colab_type": "code",
        "colab": {}
      },
      "source": [
        "y_train = np.asarray(data['label'])\n",
        "encoder = LabelEncoder()\n",
        "encoder.fit(y_train)\n",
        "y_train = encoder.transform(y_train)"
      ],
      "execution_count": 0,
      "outputs": []
    },
    {
      "cell_type": "code",
      "metadata": {
        "id": "PM_kl5gWAyz6",
        "colab_type": "code",
        "colab": {}
      },
      "source": [
        "from sklearn.model_selection import train_test_split\n",
        "X_train, X_test, ytrain, ytest = train_test_split(X, y_train, test_size = 0.15, random_state = 42)"
      ],
      "execution_count": 0,
      "outputs": []
    },
    {
      "cell_type": "code",
      "metadata": {
        "id": "itwqlfrdN6tl",
        "colab_type": "code",
        "outputId": "3ea28cc4-f3cf-451d-9bbe-9ff1805e24d0",
        "colab": {
          "base_uri": "https://localhost:8080/",
          "height": 51
        }
      },
      "source": [
        "print (X_train.shape, ytrain.shape)\n",
        "print (X_test.shape, ytest.shape)"
      ],
      "execution_count": 0,
      "outputs": [
        {
          "output_type": "stream",
          "text": [
            "(127, 4) (127,)\n",
            "(23, 4) (23,)\n"
          ],
          "name": "stdout"
        }
      ]
    },
    {
      "cell_type": "code",
      "metadata": {
        "id": "QzP4CWdFA-83",
        "colab_type": "code",
        "outputId": "c1855375-c0da-43fe-ab57-9067fc1f6258",
        "colab": {
          "base_uri": "https://localhost:8080/",
          "height": 34
        }
      },
      "source": [
        "import tensorflow as tf\n",
        "from tensorflow import keras\n",
        "from keras.layers import Dense, Dropout,LSTM\n",
        "\n",
        "from tensorflow.python.keras.optimizers import Adam\n",
        "from keras.models import Sequential\n",
        "\n",
        "X_train.shape"
      ],
      "execution_count": 0,
      "outputs": [
        {
          "output_type": "execute_result",
          "data": {
            "text/plain": [
              "(127, 4)"
            ]
          },
          "metadata": {
            "tags": []
          },
          "execution_count": 47
        }
      ]
    },
    {
      "cell_type": "code",
      "metadata": {
        "id": "t3E39Y0LPlQU",
        "colab_type": "code",
        "outputId": "9f32f047-b2f3-41b0-d01d-f495b1b9c430",
        "colab": {
          "base_uri": "https://localhost:8080/",
          "height": 34
        }
      },
      "source": [
        "X_train_new = X_train.reshape(X_train.shape[0],1,X_train.shape[1])\n",
        "X_test_new = X_test.reshape(X_test.shape[0],1,X_test.shape[1])\n",
        "X_test_new.shape"
      ],
      "execution_count": 0,
      "outputs": [
        {
          "output_type": "execute_result",
          "data": {
            "text/plain": [
              "(23, 1, 4)"
            ]
          },
          "metadata": {
            "tags": []
          },
          "execution_count": 48
        }
      ]
    },
    {
      "cell_type": "code",
      "metadata": {
        "id": "evSOODK2QdKb",
        "colab_type": "code",
        "outputId": "7bab3230-60ea-4b3b-b0a3-7de73d1e2fb0",
        "colab": {
          "base_uri": "https://localhost:8080/",
          "height": 51
        }
      },
      "source": [
        "# convert integers to dummy variables (i.e. one hot encoded)\n",
        "y_train_new = np_utils.to_categorical(ytrain)\n",
        "y_train_new = y_train_new.reshape(y_train_new.shape[0],1,y_train_new.shape[1])\n",
        "print(y_train_new.shape)\n",
        "\n",
        "\n",
        "y_test_new = np_utils.to_categorical(ytest)\n",
        "y_test_new = y_test_new.reshape(y_test_new.shape[0],1,y_test_new.shape[1])\n",
        "y_test_new.shape"
      ],
      "execution_count": 0,
      "outputs": [
        {
          "output_type": "stream",
          "text": [
            "(127, 1, 3)\n"
          ],
          "name": "stdout"
        },
        {
          "output_type": "execute_result",
          "data": {
            "text/plain": [
              "(23, 1, 3)"
            ]
          },
          "metadata": {
            "tags": []
          },
          "execution_count": 49
        }
      ]
    },
    {
      "cell_type": "code",
      "metadata": {
        "id": "KsoI2pOeQ0js",
        "colab_type": "code",
        "colab": {}
      },
      "source": [
        "from tensorflow.python.keras.models import Sequential\n",
        "from tensorflow.python.keras.layers import Dense,Dropout, LSTM\n",
        "from tensorflow.python.keras.optimizers import Adam"
      ],
      "execution_count": 0,
      "outputs": []
    },
    {
      "cell_type": "code",
      "metadata": {
        "id": "1i-ngsDrQ8QD",
        "colab_type": "code",
        "colab": {}
      },
      "source": [
        "def myModel2():\n",
        "  model = Sequential()\n",
        "  model.add(LSTM(128,input_shape=(1,X_train_new.shape[2]), return_sequences=True))\n",
        "  model.add(LSTM(64,return_sequences=True))\n",
        "  model.add(LSTM(16,return_sequences=True))\n",
        "  model.add(LSTM(8,return_sequences=True))\n",
        "  model.add(Dense(3,activation='softmax'))\n",
        "  optimizer = Adam(lr=.001)\n",
        "  model.compile(loss='categorical_crossentropy',optimizer=optimizer,metrics=['accuracy', 'mae','mse'])\n",
        "  model.summary()\n",
        "  return model\n",
        "\n",
        "def plot_accuracy_loss(history):\n",
        "  history_dict = history.history\n",
        "  # plot loss during training\n",
        "  loss_values = history_dict['loss']\n",
        "  val_loss_values = history_dict['val_loss']\n",
        "  plt.subplot(211)\n",
        "  plt.title('Loss')\n",
        "  epochs = range(1, len(loss_values) + 1)\n",
        "  plt.plot(epochs,loss_values, label='Training loss')\n",
        "  plt.plot(epochs,val_loss_values, label='test/Validation loss')\n",
        "  plt.xlabel('Epochs')\n",
        "  plt.ylabel('Loss')\n",
        "  plt.legend()\n",
        "  # plot accuracy during training\n",
        "  acc_values = history_dict['acc']\n",
        "  val_acc_values = history_dict['val_acc']\n",
        "  plt.subplot(212)\n",
        "  plt.title('Accuracy')\n",
        "  epochs = range(1, len(acc_values) + 1)\n",
        "  plt.plot(epochs,acc_values, label='train accuracy')\n",
        "  plt.plot(epochs,val_acc_values, label='test/Validation accuracy')\n",
        "  plt.legend()\n",
        "  plt.show()\n",
        "  \n",
        "def acc_on_train(x,y,model):\n",
        "  %%time\n",
        "  result = model.evaluate(x, y,verbose=0)\n",
        "  print(\"Accuracy on trian data: {0:.2%}\".format(result[1]))\n",
        "  print(\"MAE on train data: {0:.2%}\".format(result[2]))\n",
        "  print(\"MSE on train data: {0:.2%}\".format(result[3]))\n",
        "  print(\"\\n\")\n",
        "  \n",
        "def acc_on_test(x,y,model):\n",
        "  %%time\n",
        "  result = model.evaluate(x, y,verbose=0)\n",
        "  print(\"Accuracy on test data: {0:.2%}\".format(result[1]))\n",
        "  print(\"MAE on test data: {0:.2%}\".format(result[2]))\n",
        "  print(\"MSE on test data: {0:.2%}\".format(result[3]))\n",
        "  print(\"\\n\")"
      ],
      "execution_count": 0,
      "outputs": []
    },
    {
      "cell_type": "code",
      "metadata": {
        "id": "B1jlyMdWRHDj",
        "colab_type": "code",
        "outputId": "c5b6271d-0bba-4e55-ea27-68335d68441b",
        "colab": {
          "base_uri": "https://localhost:8080/",
          "height": 323
        }
      },
      "source": [
        "model = myModel2()"
      ],
      "execution_count": 0,
      "outputs": [
        {
          "output_type": "stream",
          "text": [
            "Model: \"sequential_11\"\n",
            "_________________________________________________________________\n",
            "Layer (type)                 Output Shape              Param #   \n",
            "=================================================================\n",
            "lstm_40 (LSTM)               (None, 1, 128)            68096     \n",
            "_________________________________________________________________\n",
            "lstm_41 (LSTM)               (None, 1, 64)             49408     \n",
            "_________________________________________________________________\n",
            "lstm_42 (LSTM)               (None, 1, 16)             5184      \n",
            "_________________________________________________________________\n",
            "lstm_43 (LSTM)               (None, 1, 8)              800       \n",
            "_________________________________________________________________\n",
            "dense_10 (Dense)             (None, 1, 3)              27        \n",
            "=================================================================\n",
            "Total params: 123,515\n",
            "Trainable params: 123,515\n",
            "Non-trainable params: 0\n",
            "_________________________________________________________________\n"
          ],
          "name": "stdout"
        }
      ]
    },
    {
      "cell_type": "code",
      "metadata": {
        "id": "VslAYgUCRK90",
        "colab_type": "code",
        "outputId": "4f969336-08d0-45b6-f874-48bb4704e988",
        "colab": {
          "base_uri": "https://localhost:8080/",
          "height": 1000
        }
      },
      "source": [
        "history = model.fit(X_train_new, y_train_new, epochs=200,validation_data=(X_test_new, y_test_new), batch_size=16)"
      ],
      "execution_count": 0,
      "outputs": [
        {
          "output_type": "stream",
          "text": [
            "Train on 127 samples, validate on 23 samples\n",
            "Epoch 1/200\n",
            "127/127 [==============================] - 7s 55ms/sample - loss: 1.0984 - acc: 0.2835 - mean_absolute_error: 0.4444 - mean_squared_error: 0.2222 - val_loss: 1.0979 - val_acc: 0.2609 - val_mean_absolute_error: 0.4443 - val_mean_squared_error: 0.2221\n",
            "Epoch 2/200\n",
            "127/127 [==============================] - 0s 1ms/sample - loss: 1.0964 - acc: 0.3465 - mean_absolute_error: 0.4439 - mean_squared_error: 0.2217 - val_loss: 1.0957 - val_acc: 0.2609 - val_mean_absolute_error: 0.4438 - val_mean_squared_error: 0.2216\n",
            "Epoch 3/200\n",
            "127/127 [==============================] - 0s 1ms/sample - loss: 1.0922 - acc: 0.3465 - mean_absolute_error: 0.4430 - mean_squared_error: 0.2208 - val_loss: 1.0895 - val_acc: 0.2609 - val_mean_absolute_error: 0.4424 - val_mean_squared_error: 0.2202\n",
            "Epoch 4/200\n",
            "127/127 [==============================] - 0s 1ms/sample - loss: 1.0826 - acc: 0.2992 - mean_absolute_error: 0.4408 - mean_squared_error: 0.2187 - val_loss: 1.0748 - val_acc: 0.0435 - val_mean_absolute_error: 0.4390 - val_mean_squared_error: 0.2171\n",
            "Epoch 5/200\n",
            "127/127 [==============================] - 0s 1ms/sample - loss: 1.0604 - acc: 0.1811 - mean_absolute_error: 0.4356 - mean_squared_error: 0.2141 - val_loss: 1.0424 - val_acc: 0.3913 - val_mean_absolute_error: 0.4313 - val_mean_squared_error: 0.2105\n",
            "Epoch 6/200\n",
            "127/127 [==============================] - 0s 1ms/sample - loss: 1.0170 - acc: 0.5118 - mean_absolute_error: 0.4252 - mean_squared_error: 0.2055 - val_loss: 0.9822 - val_acc: 0.7391 - val_mean_absolute_error: 0.4167 - val_mean_squared_error: 0.1986\n",
            "Epoch 7/200\n",
            "127/127 [==============================] - 0s 1ms/sample - loss: 0.9491 - acc: 0.6535 - mean_absolute_error: 0.4083 - mean_squared_error: 0.1923 - val_loss: 0.9027 - val_acc: 0.7391 - val_mean_absolute_error: 0.3963 - val_mean_squared_error: 0.1829\n",
            "Epoch 8/200\n",
            "127/127 [==============================] - 0s 1ms/sample - loss: 0.8726 - acc: 0.6535 - mean_absolute_error: 0.3879 - mean_squared_error: 0.1779 - val_loss: 0.8345 - val_acc: 0.7391 - val_mean_absolute_error: 0.3772 - val_mean_squared_error: 0.1708\n",
            "Epoch 9/200\n",
            "127/127 [==============================] - 0s 1ms/sample - loss: 0.8119 - acc: 0.7638 - mean_absolute_error: 0.3706 - mean_squared_error: 0.1669 - val_loss: 0.7868 - val_acc: 0.6087 - val_mean_absolute_error: 0.3631 - val_mean_squared_error: 0.1622\n",
            "Epoch 10/200\n",
            "127/127 [==============================] - 0s 1ms/sample - loss: 0.7667 - acc: 0.6850 - mean_absolute_error: 0.3568 - mean_squared_error: 0.1583 - val_loss: 0.7444 - val_acc: 0.6087 - val_mean_absolute_error: 0.3496 - val_mean_squared_error: 0.1536\n",
            "Epoch 11/200\n",
            "127/127 [==============================] - 0s 1ms/sample - loss: 0.7269 - acc: 0.6772 - mean_absolute_error: 0.3438 - mean_squared_error: 0.1501 - val_loss: 0.7072 - val_acc: 0.6087 - val_mean_absolute_error: 0.3370 - val_mean_squared_error: 0.1457\n",
            "Epoch 12/200\n",
            "127/127 [==============================] - 0s 1ms/sample - loss: 0.6960 - acc: 0.6929 - mean_absolute_error: 0.3331 - mean_squared_error: 0.1436 - val_loss: 0.6807 - val_acc: 0.6522 - val_mean_absolute_error: 0.3274 - val_mean_squared_error: 0.1400\n",
            "Epoch 13/200\n",
            "127/127 [==============================] - 0s 1ms/sample - loss: 0.6700 - acc: 0.7402 - mean_absolute_error: 0.3235 - mean_squared_error: 0.1377 - val_loss: 0.6512 - val_acc: 0.6957 - val_mean_absolute_error: 0.3161 - val_mean_squared_error: 0.1331\n",
            "Epoch 14/200\n",
            "127/127 [==============================] - 0s 1ms/sample - loss: 0.6374 - acc: 0.8110 - mean_absolute_error: 0.3107 - mean_squared_error: 0.1298 - val_loss: 0.6152 - val_acc: 0.7391 - val_mean_absolute_error: 0.3015 - val_mean_squared_error: 0.1243\n",
            "Epoch 15/200\n",
            "127/127 [==============================] - 0s 1ms/sample - loss: 0.6021 - acc: 0.9291 - mean_absolute_error: 0.2962 - mean_squared_error: 0.1211 - val_loss: 0.5767 - val_acc: 0.9130 - val_mean_absolute_error: 0.2857 - val_mean_squared_error: 0.1137\n",
            "Epoch 16/200\n",
            "127/127 [==============================] - 0s 1ms/sample - loss: 0.5703 - acc: 0.9213 - mean_absolute_error: 0.2824 - mean_squared_error: 0.1134 - val_loss: 0.5433 - val_acc: 1.0000 - val_mean_absolute_error: 0.2713 - val_mean_squared_error: 0.1057\n",
            "Epoch 17/200\n",
            "127/127 [==============================] - 0s 1ms/sample - loss: 0.5348 - acc: 0.9528 - mean_absolute_error: 0.2675 - mean_squared_error: 0.1043 - val_loss: 0.5144 - val_acc: 0.9565 - val_mean_absolute_error: 0.2583 - val_mean_squared_error: 0.1002\n",
            "Epoch 18/200\n",
            "127/127 [==============================] - 0s 1ms/sample - loss: 0.4995 - acc: 0.9764 - mean_absolute_error: 0.2526 - mean_squared_error: 0.0957 - val_loss: 0.4819 - val_acc: 0.9565 - val_mean_absolute_error: 0.2442 - val_mean_squared_error: 0.0928\n",
            "Epoch 19/200\n",
            "127/127 [==============================] - 0s 1ms/sample - loss: 0.4706 - acc: 0.9449 - mean_absolute_error: 0.2398 - mean_squared_error: 0.0898 - val_loss: 0.4474 - val_acc: 0.9130 - val_mean_absolute_error: 0.2286 - val_mean_squared_error: 0.0835\n",
            "Epoch 20/200\n",
            "127/127 [==============================] - 0s 1ms/sample - loss: 0.4315 - acc: 0.9843 - mean_absolute_error: 0.2234 - mean_squared_error: 0.0796 - val_loss: 0.4200 - val_acc: 0.9565 - val_mean_absolute_error: 0.2174 - val_mean_squared_error: 0.0781\n",
            "Epoch 21/200\n",
            "127/127 [==============================] - 0s 1ms/sample - loss: 0.3976 - acc: 0.9764 - mean_absolute_error: 0.2089 - mean_squared_error: 0.0712 - val_loss: 0.3753 - val_acc: 0.9565 - val_mean_absolute_error: 0.1983 - val_mean_squared_error: 0.0657\n",
            "Epoch 22/200\n",
            "127/127 [==============================] - 0s 1ms/sample - loss: 0.3681 - acc: 0.9764 - mean_absolute_error: 0.1957 - mean_squared_error: 0.0638 - val_loss: 0.3643 - val_acc: 0.9565 - val_mean_absolute_error: 0.1926 - val_mean_squared_error: 0.0643\n",
            "Epoch 23/200\n",
            "127/127 [==============================] - 0s 1ms/sample - loss: 0.3411 - acc: 0.9685 - mean_absolute_error: 0.1832 - mean_squared_error: 0.0573 - val_loss: 0.3142 - val_acc: 0.9565 - val_mean_absolute_error: 0.1712 - val_mean_squared_error: 0.0506\n",
            "Epoch 24/200\n",
            "127/127 [==============================] - 0s 1ms/sample - loss: 0.3098 - acc: 0.9764 - mean_absolute_error: 0.1690 - mean_squared_error: 0.0495 - val_loss: 0.2819 - val_acc: 1.0000 - val_mean_absolute_error: 0.1570 - val_mean_squared_error: 0.0424\n",
            "Epoch 25/200\n",
            "127/127 [==============================] - 0s 1ms/sample - loss: 0.2826 - acc: 0.9685 - mean_absolute_error: 0.1562 - mean_squared_error: 0.0431 - val_loss: 0.2817 - val_acc: 0.9565 - val_mean_absolute_error: 0.1523 - val_mean_squared_error: 0.0446\n",
            "Epoch 26/200\n",
            "127/127 [==============================] - 0s 1ms/sample - loss: 0.2642 - acc: 0.9764 - mean_absolute_error: 0.1465 - mean_squared_error: 0.0393 - val_loss: 0.2331 - val_acc: 1.0000 - val_mean_absolute_error: 0.1334 - val_mean_squared_error: 0.0313\n",
            "Epoch 27/200\n",
            "127/127 [==============================] - 0s 1ms/sample - loss: 0.2415 - acc: 0.9685 - mean_absolute_error: 0.1352 - mean_squared_error: 0.0342 - val_loss: 0.2240 - val_acc: 0.9565 - val_mean_absolute_error: 0.1273 - val_mean_squared_error: 0.0304\n",
            "Epoch 28/200\n",
            "127/127 [==============================] - 0s 1ms/sample - loss: 0.2359 - acc: 0.9528 - mean_absolute_error: 0.1298 - mean_squared_error: 0.0342 - val_loss: 0.2363 - val_acc: 0.9565 - val_mean_absolute_error: 0.1281 - val_mean_squared_error: 0.0351\n",
            "Epoch 29/200\n",
            "127/127 [==============================] - 0s 1ms/sample - loss: 0.2406 - acc: 0.9528 - mean_absolute_error: 0.1272 - mean_squared_error: 0.0365 - val_loss: 0.2757 - val_acc: 0.9130 - val_mean_absolute_error: 0.1329 - val_mean_squared_error: 0.0481\n",
            "Epoch 30/200\n",
            "127/127 [==============================] - 0s 1ms/sample - loss: 0.2289 - acc: 0.9528 - mean_absolute_error: 0.1204 - mean_squared_error: 0.0345 - val_loss: 0.3799 - val_acc: 0.7391 - val_mean_absolute_error: 0.1733 - val_mean_squared_error: 0.0804\n",
            "Epoch 31/200\n",
            "127/127 [==============================] - 0s 1ms/sample - loss: 0.2454 - acc: 0.9291 - mean_absolute_error: 0.1238 - mean_squared_error: 0.0401 - val_loss: 0.2919 - val_acc: 0.9130 - val_mean_absolute_error: 0.1301 - val_mean_squared_error: 0.0535\n",
            "Epoch 32/200\n",
            "127/127 [==============================] - 0s 1ms/sample - loss: 0.1876 - acc: 0.9685 - mean_absolute_error: 0.1022 - mean_squared_error: 0.0249 - val_loss: 0.1965 - val_acc: 0.9565 - val_mean_absolute_error: 0.1044 - val_mean_squared_error: 0.0284\n",
            "Epoch 33/200\n",
            "127/127 [==============================] - 0s 1ms/sample - loss: 0.1773 - acc: 0.9685 - mean_absolute_error: 0.0976 - mean_squared_error: 0.0228 - val_loss: 0.1858 - val_acc: 0.9565 - val_mean_absolute_error: 0.1004 - val_mean_squared_error: 0.0271\n",
            "Epoch 34/200\n",
            "127/127 [==============================] - 0s 1ms/sample - loss: 0.1794 - acc: 0.9606 - mean_absolute_error: 0.0969 - mean_squared_error: 0.0246 - val_loss: 0.1483 - val_acc: 1.0000 - val_mean_absolute_error: 0.0873 - val_mean_squared_error: 0.0166\n",
            "Epoch 35/200\n",
            "127/127 [==============================] - 0s 1ms/sample - loss: 0.1600 - acc: 0.9764 - mean_absolute_error: 0.0883 - mean_squared_error: 0.0198 - val_loss: 0.1706 - val_acc: 0.9565 - val_mean_absolute_error: 0.0905 - val_mean_squared_error: 0.0243\n",
            "Epoch 36/200\n",
            "127/127 [==============================] - 0s 1ms/sample - loss: 0.1634 - acc: 0.9685 - mean_absolute_error: 0.0870 - mean_squared_error: 0.0214 - val_loss: 0.1322 - val_acc: 1.0000 - val_mean_absolute_error: 0.0789 - val_mean_squared_error: 0.0136\n",
            "Epoch 37/200\n",
            "127/127 [==============================] - 0s 1ms/sample - loss: 0.1720 - acc: 0.9606 - mean_absolute_error: 0.0888 - mean_squared_error: 0.0249 - val_loss: 0.1341 - val_acc: 0.9565 - val_mean_absolute_error: 0.0780 - val_mean_squared_error: 0.0154\n",
            "Epoch 38/200\n",
            "127/127 [==============================] - 0s 1ms/sample - loss: 0.1378 - acc: 0.9843 - mean_absolute_error: 0.0780 - mean_squared_error: 0.0157 - val_loss: 0.1171 - val_acc: 1.0000 - val_mean_absolute_error: 0.0713 - val_mean_squared_error: 0.0106\n",
            "Epoch 39/200\n",
            "127/127 [==============================] - 0s 1ms/sample - loss: 0.1356 - acc: 0.9685 - mean_absolute_error: 0.0754 - mean_squared_error: 0.0159 - val_loss: 0.1673 - val_acc: 0.9565 - val_mean_absolute_error: 0.0827 - val_mean_squared_error: 0.0252\n",
            "Epoch 40/200\n",
            "127/127 [==============================] - 0s 1ms/sample - loss: 0.1519 - acc: 0.9685 - mean_absolute_error: 0.0775 - mean_squared_error: 0.0205 - val_loss: 0.1050 - val_acc: 1.0000 - val_mean_absolute_error: 0.0647 - val_mean_squared_error: 0.0085\n",
            "Epoch 41/200\n",
            "127/127 [==============================] - 0s 1ms/sample - loss: 0.1486 - acc: 0.9685 - mean_absolute_error: 0.0751 - mean_squared_error: 0.0202 - val_loss: 0.1013 - val_acc: 1.0000 - val_mean_absolute_error: 0.0624 - val_mean_squared_error: 0.0080\n",
            "Epoch 42/200\n",
            "127/127 [==============================] - 0s 1ms/sample - loss: 0.1212 - acc: 0.9843 - mean_absolute_error: 0.0677 - mean_squared_error: 0.0136 - val_loss: 0.0972 - val_acc: 1.0000 - val_mean_absolute_error: 0.0601 - val_mean_squared_error: 0.0074\n",
            "Epoch 43/200\n",
            "127/127 [==============================] - 0s 1ms/sample - loss: 0.1293 - acc: 0.9685 - mean_absolute_error: 0.0685 - mean_squared_error: 0.0168 - val_loss: 0.0941 - val_acc: 1.0000 - val_mean_absolute_error: 0.0582 - val_mean_squared_error: 0.0072\n",
            "Epoch 44/200\n",
            "127/127 [==============================] - 0s 1ms/sample - loss: 0.1387 - acc: 0.9685 - mean_absolute_error: 0.0678 - mean_squared_error: 0.0191 - val_loss: 0.1454 - val_acc: 0.9565 - val_mean_absolute_error: 0.0706 - val_mean_squared_error: 0.0225\n",
            "Epoch 45/200\n",
            "127/127 [==============================] - 0s 1ms/sample - loss: 0.1359 - acc: 0.9606 - mean_absolute_error: 0.0685 - mean_squared_error: 0.0195 - val_loss: 0.0931 - val_acc: 1.0000 - val_mean_absolute_error: 0.0570 - val_mean_squared_error: 0.0078\n",
            "Epoch 46/200\n",
            "127/127 [==============================] - 0s 1ms/sample - loss: 0.1141 - acc: 0.9843 - mean_absolute_error: 0.0612 - mean_squared_error: 0.0136 - val_loss: 0.0939 - val_acc: 1.0000 - val_mean_absolute_error: 0.0569 - val_mean_squared_error: 0.0086\n",
            "Epoch 47/200\n",
            "127/127 [==============================] - 0s 1ms/sample - loss: 0.1085 - acc: 0.9843 - mean_absolute_error: 0.0600 - mean_squared_error: 0.0123 - val_loss: 0.0986 - val_acc: 1.0000 - val_mean_absolute_error: 0.0583 - val_mean_squared_error: 0.0106\n",
            "Epoch 48/200\n",
            "127/127 [==============================] - 0s 1ms/sample - loss: 0.1138 - acc: 0.9764 - mean_absolute_error: 0.0602 - mean_squared_error: 0.0150 - val_loss: 0.0938 - val_acc: 1.0000 - val_mean_absolute_error: 0.0553 - val_mean_squared_error: 0.0100\n",
            "Epoch 49/200\n",
            "127/127 [==============================] - 0s 1ms/sample - loss: 0.1270 - acc: 0.9685 - mean_absolute_error: 0.0614 - mean_squared_error: 0.0183 - val_loss: 0.0838 - val_acc: 1.0000 - val_mean_absolute_error: 0.0515 - val_mean_squared_error: 0.0069\n",
            "Epoch 50/200\n",
            "127/127 [==============================] - 0s 1ms/sample - loss: 0.1022 - acc: 0.9843 - mean_absolute_error: 0.0556 - mean_squared_error: 0.0122 - val_loss: 0.0877 - val_acc: 1.0000 - val_mean_absolute_error: 0.0526 - val_mean_squared_error: 0.0087\n",
            "Epoch 51/200\n",
            "127/127 [==============================] - 0s 1ms/sample - loss: 0.1040 - acc: 0.9764 - mean_absolute_error: 0.0557 - mean_squared_error: 0.0133 - val_loss: 0.0781 - val_acc: 1.0000 - val_mean_absolute_error: 0.0482 - val_mean_squared_error: 0.0062\n",
            "Epoch 52/200\n",
            "127/127 [==============================] - 0s 1ms/sample - loss: 0.1522 - acc: 0.9606 - mean_absolute_error: 0.0649 - mean_squared_error: 0.0244 - val_loss: 0.1468 - val_acc: 0.9565 - val_mean_absolute_error: 0.0655 - val_mean_squared_error: 0.0240\n",
            "Epoch 53/200\n",
            "127/127 [==============================] - 0s 1ms/sample - loss: 0.1394 - acc: 0.9606 - mean_absolute_error: 0.0618 - mean_squared_error: 0.0220 - val_loss: 0.0954 - val_acc: 0.9565 - val_mean_absolute_error: 0.0544 - val_mean_squared_error: 0.0122\n",
            "Epoch 54/200\n",
            "127/127 [==============================] - 0s 1ms/sample - loss: 0.1463 - acc: 0.9606 - mean_absolute_error: 0.0637 - mean_squared_error: 0.0237 - val_loss: 0.1564 - val_acc: 0.9565 - val_mean_absolute_error: 0.0710 - val_mean_squared_error: 0.0257\n",
            "Epoch 55/200\n",
            "127/127 [==============================] - 0s 1ms/sample - loss: 0.1095 - acc: 0.9685 - mean_absolute_error: 0.0562 - mean_squared_error: 0.0153 - val_loss: 0.1012 - val_acc: 0.9565 - val_mean_absolute_error: 0.0562 - val_mean_squared_error: 0.0143\n",
            "Epoch 56/200\n",
            "127/127 [==============================] - 0s 1ms/sample - loss: 0.1374 - acc: 0.9528 - mean_absolute_error: 0.0632 - mean_squared_error: 0.0230 - val_loss: 0.1271 - val_acc: 0.9565 - val_mean_absolute_error: 0.0601 - val_mean_squared_error: 0.0209\n",
            "Epoch 57/200\n",
            "127/127 [==============================] - 0s 1ms/sample - loss: 0.1167 - acc: 0.9685 - mean_absolute_error: 0.0551 - mean_squared_error: 0.0177 - val_loss: 0.0830 - val_acc: 1.0000 - val_mean_absolute_error: 0.0497 - val_mean_squared_error: 0.0085\n",
            "Epoch 58/200\n",
            "127/127 [==============================] - 0s 1ms/sample - loss: 0.0990 - acc: 0.9843 - mean_absolute_error: 0.0535 - mean_squared_error: 0.0132 - val_loss: 0.0806 - val_acc: 1.0000 - val_mean_absolute_error: 0.0483 - val_mean_squared_error: 0.0082\n",
            "Epoch 59/200\n",
            "127/127 [==============================] - 0s 1ms/sample - loss: 0.0939 - acc: 0.9685 - mean_absolute_error: 0.0511 - mean_squared_error: 0.0125 - val_loss: 0.0795 - val_acc: 1.0000 - val_mean_absolute_error: 0.0471 - val_mean_squared_error: 0.0086\n",
            "Epoch 60/200\n",
            "127/127 [==============================] - 0s 1ms/sample - loss: 0.0974 - acc: 0.9764 - mean_absolute_error: 0.0501 - mean_squared_error: 0.0138 - val_loss: 0.0748 - val_acc: 1.0000 - val_mean_absolute_error: 0.0449 - val_mean_squared_error: 0.0075\n",
            "Epoch 61/200\n",
            "127/127 [==============================] - 0s 1ms/sample - loss: 0.0841 - acc: 0.9921 - mean_absolute_error: 0.0448 - mean_squared_error: 0.0099 - val_loss: 0.0715 - val_acc: 1.0000 - val_mean_absolute_error: 0.0429 - val_mean_squared_error: 0.0071\n",
            "Epoch 62/200\n",
            "127/127 [==============================] - 0s 1ms/sample - loss: 0.0991 - acc: 0.9606 - mean_absolute_error: 0.0485 - mean_squared_error: 0.0152 - val_loss: 0.0640 - val_acc: 1.0000 - val_mean_absolute_error: 0.0397 - val_mean_squared_error: 0.0048\n",
            "Epoch 63/200\n",
            "127/127 [==============================] - 0s 1ms/sample - loss: 0.0979 - acc: 0.9685 - mean_absolute_error: 0.0457 - mean_squared_error: 0.0143 - val_loss: 0.0695 - val_acc: 1.0000 - val_mean_absolute_error: 0.0416 - val_mean_squared_error: 0.0070\n",
            "Epoch 64/200\n",
            "127/127 [==============================] - 0s 1ms/sample - loss: 0.0832 - acc: 0.9843 - mean_absolute_error: 0.0441 - mean_squared_error: 0.0110 - val_loss: 0.0729 - val_acc: 1.0000 - val_mean_absolute_error: 0.0430 - val_mean_squared_error: 0.0081\n",
            "Epoch 65/200\n",
            "127/127 [==============================] - 0s 1ms/sample - loss: 0.0991 - acc: 0.9685 - mean_absolute_error: 0.0483 - mean_squared_error: 0.0158 - val_loss: 0.0896 - val_acc: 0.9565 - val_mean_absolute_error: 0.0461 - val_mean_squared_error: 0.0144\n",
            "Epoch 66/200\n",
            "127/127 [==============================] - 0s 1ms/sample - loss: 0.0963 - acc: 0.9685 - mean_absolute_error: 0.0446 - mean_squared_error: 0.0149 - val_loss: 0.0681 - val_acc: 1.0000 - val_mean_absolute_error: 0.0414 - val_mean_squared_error: 0.0064\n",
            "Epoch 67/200\n",
            "127/127 [==============================] - 0s 1ms/sample - loss: 0.0831 - acc: 0.9685 - mean_absolute_error: 0.0441 - mean_squared_error: 0.0115 - val_loss: 0.0721 - val_acc: 1.0000 - val_mean_absolute_error: 0.0429 - val_mean_squared_error: 0.0078\n",
            "Epoch 68/200\n",
            "127/127 [==============================] - 0s 983us/sample - loss: 0.0859 - acc: 0.9764 - mean_absolute_error: 0.0454 - mean_squared_error: 0.0122 - val_loss: 0.0676 - val_acc: 1.0000 - val_mean_absolute_error: 0.0409 - val_mean_squared_error: 0.0066\n",
            "Epoch 69/200\n",
            "127/127 [==============================] - 0s 947us/sample - loss: 0.0796 - acc: 0.9843 - mean_absolute_error: 0.0409 - mean_squared_error: 0.0107 - val_loss: 0.0661 - val_acc: 1.0000 - val_mean_absolute_error: 0.0398 - val_mean_squared_error: 0.0066\n",
            "Epoch 70/200\n",
            "127/127 [==============================] - 0s 833us/sample - loss: 0.0799 - acc: 0.9764 - mean_absolute_error: 0.0415 - mean_squared_error: 0.0114 - val_loss: 0.0632 - val_acc: 1.0000 - val_mean_absolute_error: 0.0379 - val_mean_squared_error: 0.0064\n",
            "Epoch 71/200\n",
            "127/127 [==============================] - 0s 834us/sample - loss: 0.0981 - acc: 0.9606 - mean_absolute_error: 0.0430 - mean_squared_error: 0.0157 - val_loss: 0.0758 - val_acc: 0.9565 - val_mean_absolute_error: 0.0405 - val_mean_squared_error: 0.0116\n",
            "Epoch 72/200\n",
            "127/127 [==============================] - 0s 793us/sample - loss: 0.0782 - acc: 0.9843 - mean_absolute_error: 0.0385 - mean_squared_error: 0.0112 - val_loss: 0.0747 - val_acc: 1.0000 - val_mean_absolute_error: 0.0424 - val_mean_squared_error: 0.0101\n",
            "Epoch 73/200\n",
            "127/127 [==============================] - 0s 887us/sample - loss: 0.0908 - acc: 0.9685 - mean_absolute_error: 0.0432 - mean_squared_error: 0.0144 - val_loss: 0.0609 - val_acc: 1.0000 - val_mean_absolute_error: 0.0371 - val_mean_squared_error: 0.0056\n",
            "Epoch 74/200\n",
            "127/127 [==============================] - 0s 892us/sample - loss: 0.0742 - acc: 0.9921 - mean_absolute_error: 0.0391 - mean_squared_error: 0.0099 - val_loss: 0.0732 - val_acc: 1.0000 - val_mean_absolute_error: 0.0417 - val_mean_squared_error: 0.0098\n",
            "Epoch 75/200\n",
            "127/127 [==============================] - 0s 845us/sample - loss: 0.0771 - acc: 0.9685 - mean_absolute_error: 0.0393 - mean_squared_error: 0.0112 - val_loss: 0.0573 - val_acc: 1.0000 - val_mean_absolute_error: 0.0351 - val_mean_squared_error: 0.0050\n",
            "Epoch 76/200\n",
            "127/127 [==============================] - 0s 814us/sample - loss: 0.0736 - acc: 0.9843 - mean_absolute_error: 0.0365 - mean_squared_error: 0.0098 - val_loss: 0.0559 - val_acc: 1.0000 - val_mean_absolute_error: 0.0342 - val_mean_squared_error: 0.0050\n",
            "Epoch 77/200\n",
            "127/127 [==============================] - 0s 1ms/sample - loss: 0.0887 - acc: 0.9685 - mean_absolute_error: 0.0404 - mean_squared_error: 0.0144 - val_loss: 0.0697 - val_acc: 0.9565 - val_mean_absolute_error: 0.0382 - val_mean_squared_error: 0.0102\n",
            "Epoch 78/200\n",
            "127/127 [==============================] - 0s 1ms/sample - loss: 0.1098 - acc: 0.9685 - mean_absolute_error: 0.0432 - mean_squared_error: 0.0187 - val_loss: 0.0673 - val_acc: 0.9565 - val_mean_absolute_error: 0.0379 - val_mean_squared_error: 0.0092\n",
            "Epoch 79/200\n",
            "127/127 [==============================] - 0s 1ms/sample - loss: 0.0702 - acc: 0.9921 - mean_absolute_error: 0.0371 - mean_squared_error: 0.0086 - val_loss: 0.1877 - val_acc: 0.9130 - val_mean_absolute_error: 0.0665 - val_mean_squared_error: 0.0385\n",
            "Epoch 80/200\n",
            "127/127 [==============================] - 0s 1ms/sample - loss: 0.0749 - acc: 0.9764 - mean_absolute_error: 0.0403 - mean_squared_error: 0.0106 - val_loss: 0.0730 - val_acc: 0.9565 - val_mean_absolute_error: 0.0387 - val_mean_squared_error: 0.0116\n",
            "Epoch 81/200\n",
            "127/127 [==============================] - 0s 1ms/sample - loss: 0.1125 - acc: 0.9685 - mean_absolute_error: 0.0406 - mean_squared_error: 0.0186 - val_loss: 0.1029 - val_acc: 0.9565 - val_mean_absolute_error: 0.0436 - val_mean_squared_error: 0.0196\n",
            "Epoch 82/200\n",
            "127/127 [==============================] - 0s 1ms/sample - loss: 0.0931 - acc: 0.9606 - mean_absolute_error: 0.0436 - mean_squared_error: 0.0165 - val_loss: 0.1674 - val_acc: 0.9130 - val_mean_absolute_error: 0.0617 - val_mean_squared_error: 0.0341\n",
            "Epoch 83/200\n",
            "127/127 [==============================] - 0s 1ms/sample - loss: 0.1099 - acc: 0.9685 - mean_absolute_error: 0.0472 - mean_squared_error: 0.0173 - val_loss: 0.0753 - val_acc: 0.9565 - val_mean_absolute_error: 0.0391 - val_mean_squared_error: 0.0125\n",
            "Epoch 84/200\n",
            "127/127 [==============================] - 0s 1ms/sample - loss: 0.0988 - acc: 0.9685 - mean_absolute_error: 0.0399 - mean_squared_error: 0.0168 - val_loss: 0.0787 - val_acc: 0.9565 - val_mean_absolute_error: 0.0396 - val_mean_squared_error: 0.0137\n",
            "Epoch 85/200\n",
            "127/127 [==============================] - 0s 996us/sample - loss: 0.0760 - acc: 0.9764 - mean_absolute_error: 0.0367 - mean_squared_error: 0.0121 - val_loss: 0.0881 - val_acc: 0.9565 - val_mean_absolute_error: 0.0458 - val_mean_squared_error: 0.0156\n",
            "Epoch 86/200\n",
            "127/127 [==============================] - 0s 1ms/sample - loss: 0.0815 - acc: 0.9606 - mean_absolute_error: 0.0413 - mean_squared_error: 0.0136 - val_loss: 0.0704 - val_acc: 0.9565 - val_mean_absolute_error: 0.0386 - val_mean_squared_error: 0.0106\n",
            "Epoch 87/200\n",
            "127/127 [==============================] - 0s 1ms/sample - loss: 0.0813 - acc: 0.9685 - mean_absolute_error: 0.0374 - mean_squared_error: 0.0132 - val_loss: 0.0673 - val_acc: 1.0000 - val_mean_absolute_error: 0.0391 - val_mean_squared_error: 0.0087\n",
            "Epoch 88/200\n",
            "127/127 [==============================] - 0s 1ms/sample - loss: 0.0806 - acc: 0.9685 - mean_absolute_error: 0.0418 - mean_squared_error: 0.0131 - val_loss: 0.0666 - val_acc: 1.0000 - val_mean_absolute_error: 0.0388 - val_mean_squared_error: 0.0083\n",
            "Epoch 89/200\n",
            "127/127 [==============================] - 0s 1ms/sample - loss: 0.0694 - acc: 0.9843 - mean_absolute_error: 0.0366 - mean_squared_error: 0.0102 - val_loss: 0.0629 - val_acc: 1.0000 - val_mean_absolute_error: 0.0372 - val_mean_squared_error: 0.0074\n",
            "Epoch 90/200\n",
            "127/127 [==============================] - 0s 1ms/sample - loss: 0.0761 - acc: 0.9843 - mean_absolute_error: 0.0361 - mean_squared_error: 0.0116 - val_loss: 0.0567 - val_acc: 1.0000 - val_mean_absolute_error: 0.0339 - val_mean_squared_error: 0.0061\n",
            "Epoch 91/200\n",
            "127/127 [==============================] - 0s 1ms/sample - loss: 0.0723 - acc: 0.9764 - mean_absolute_error: 0.0342 - mean_squared_error: 0.0111 - val_loss: 0.0672 - val_acc: 1.0000 - val_mean_absolute_error: 0.0376 - val_mean_squared_error: 0.0099\n",
            "Epoch 92/200\n",
            "127/127 [==============================] - 0s 1ms/sample - loss: 0.0908 - acc: 0.9606 - mean_absolute_error: 0.0416 - mean_squared_error: 0.0166 - val_loss: 0.0982 - val_acc: 0.9565 - val_mean_absolute_error: 0.0437 - val_mean_squared_error: 0.0185\n",
            "Epoch 93/200\n",
            "127/127 [==============================] - 0s 1ms/sample - loss: 0.0784 - acc: 0.9764 - mean_absolute_error: 0.0352 - mean_squared_error: 0.0124 - val_loss: 0.0713 - val_acc: 1.0000 - val_mean_absolute_error: 0.0398 - val_mean_squared_error: 0.0108\n",
            "Epoch 94/200\n",
            "127/127 [==============================] - 0s 1ms/sample - loss: 0.0788 - acc: 0.9685 - mean_absolute_error: 0.0404 - mean_squared_error: 0.0128 - val_loss: 0.0653 - val_acc: 1.0000 - val_mean_absolute_error: 0.0381 - val_mean_squared_error: 0.0084\n",
            "Epoch 95/200\n",
            "127/127 [==============================] - 0s 1ms/sample - loss: 0.0728 - acc: 0.9764 - mean_absolute_error: 0.0347 - mean_squared_error: 0.0114 - val_loss: 0.0656 - val_acc: 1.0000 - val_mean_absolute_error: 0.0375 - val_mean_squared_error: 0.0091\n",
            "Epoch 96/200\n",
            "127/127 [==============================] - 0s 1ms/sample - loss: 0.0759 - acc: 0.9685 - mean_absolute_error: 0.0350 - mean_squared_error: 0.0124 - val_loss: 0.0634 - val_acc: 1.0000 - val_mean_absolute_error: 0.0370 - val_mean_squared_error: 0.0081\n",
            "Epoch 97/200\n",
            "127/127 [==============================] - 0s 1ms/sample - loss: 0.0779 - acc: 0.9685 - mean_absolute_error: 0.0393 - mean_squared_error: 0.0128 - val_loss: 0.0625 - val_acc: 1.0000 - val_mean_absolute_error: 0.0367 - val_mean_squared_error: 0.0077\n",
            "Epoch 98/200\n",
            "127/127 [==============================] - 0s 1ms/sample - loss: 0.0698 - acc: 0.9843 - mean_absolute_error: 0.0335 - mean_squared_error: 0.0106 - val_loss: 0.0630 - val_acc: 1.0000 - val_mean_absolute_error: 0.0353 - val_mean_squared_error: 0.0091\n",
            "Epoch 99/200\n",
            "127/127 [==============================] - 0s 1ms/sample - loss: 0.0710 - acc: 0.9764 - mean_absolute_error: 0.0328 - mean_squared_error: 0.0112 - val_loss: 0.0569 - val_acc: 1.0000 - val_mean_absolute_error: 0.0339 - val_mean_squared_error: 0.0064\n",
            "Epoch 100/200\n",
            "127/127 [==============================] - 0s 1ms/sample - loss: 0.0720 - acc: 0.9764 - mean_absolute_error: 0.0360 - mean_squared_error: 0.0121 - val_loss: 0.0554 - val_acc: 1.0000 - val_mean_absolute_error: 0.0329 - val_mean_squared_error: 0.0062\n",
            "Epoch 101/200\n",
            "127/127 [==============================] - 0s 1ms/sample - loss: 0.0689 - acc: 0.9764 - mean_absolute_error: 0.0328 - mean_squared_error: 0.0109 - val_loss: 0.0542 - val_acc: 1.0000 - val_mean_absolute_error: 0.0324 - val_mean_squared_error: 0.0059\n",
            "Epoch 102/200\n",
            "127/127 [==============================] - 0s 1ms/sample - loss: 0.0721 - acc: 0.9764 - mean_absolute_error: 0.0345 - mean_squared_error: 0.0119 - val_loss: 0.0531 - val_acc: 1.0000 - val_mean_absolute_error: 0.0317 - val_mean_squared_error: 0.0059\n",
            "Epoch 103/200\n",
            "127/127 [==============================] - 0s 1ms/sample - loss: 0.0712 - acc: 0.9764 - mean_absolute_error: 0.0326 - mean_squared_error: 0.0113 - val_loss: 0.0544 - val_acc: 1.0000 - val_mean_absolute_error: 0.0322 - val_mean_squared_error: 0.0063\n",
            "Epoch 104/200\n",
            "127/127 [==============================] - 0s 1ms/sample - loss: 0.0712 - acc: 0.9843 - mean_absolute_error: 0.0344 - mean_squared_error: 0.0118 - val_loss: 0.0531 - val_acc: 1.0000 - val_mean_absolute_error: 0.0315 - val_mean_squared_error: 0.0060\n",
            "Epoch 105/200\n",
            "127/127 [==============================] - 0s 1ms/sample - loss: 0.0804 - acc: 0.9685 - mean_absolute_error: 0.0335 - mean_squared_error: 0.0142 - val_loss: 0.0635 - val_acc: 0.9565 - val_mean_absolute_error: 0.0341 - val_mean_squared_error: 0.0103\n",
            "Epoch 106/200\n",
            "127/127 [==============================] - 0s 1ms/sample - loss: 0.0689 - acc: 0.9843 - mean_absolute_error: 0.0328 - mean_squared_error: 0.0104 - val_loss: 0.0909 - val_acc: 0.9565 - val_mean_absolute_error: 0.0450 - val_mean_squared_error: 0.0180\n",
            "Epoch 107/200\n",
            "127/127 [==============================] - 0s 1ms/sample - loss: 0.0718 - acc: 0.9764 - mean_absolute_error: 0.0361 - mean_squared_error: 0.0118 - val_loss: 0.0582 - val_acc: 1.0000 - val_mean_absolute_error: 0.0328 - val_mean_squared_error: 0.0083\n",
            "Epoch 108/200\n",
            "127/127 [==============================] - 0s 1ms/sample - loss: 0.0783 - acc: 0.9685 - mean_absolute_error: 0.0316 - mean_squared_error: 0.0134 - val_loss: 0.0638 - val_acc: 0.9565 - val_mean_absolute_error: 0.0337 - val_mean_squared_error: 0.0107\n",
            "Epoch 109/200\n",
            "127/127 [==============================] - 0s 1ms/sample - loss: 0.0650 - acc: 0.9764 - mean_absolute_error: 0.0321 - mean_squared_error: 0.0109 - val_loss: 0.0596 - val_acc: 1.0000 - val_mean_absolute_error: 0.0338 - val_mean_squared_error: 0.0084\n",
            "Epoch 110/200\n",
            "127/127 [==============================] - 0s 1ms/sample - loss: 0.0745 - acc: 0.9764 - mean_absolute_error: 0.0335 - mean_squared_error: 0.0127 - val_loss: 0.0640 - val_acc: 0.9565 - val_mean_absolute_error: 0.0336 - val_mean_squared_error: 0.0110\n",
            "Epoch 111/200\n",
            "127/127 [==============================] - 0s 1ms/sample - loss: 0.0761 - acc: 0.9685 - mean_absolute_error: 0.0318 - mean_squared_error: 0.0132 - val_loss: 0.0606 - val_acc: 1.0000 - val_mean_absolute_error: 0.0349 - val_mean_squared_error: 0.0082\n",
            "Epoch 112/200\n",
            "127/127 [==============================] - 0s 1ms/sample - loss: 0.0714 - acc: 0.9764 - mean_absolute_error: 0.0353 - mean_squared_error: 0.0117 - val_loss: 0.0605 - val_acc: 1.0000 - val_mean_absolute_error: 0.0352 - val_mean_squared_error: 0.0078\n",
            "Epoch 113/200\n",
            "127/127 [==============================] - 0s 1ms/sample - loss: 0.0649 - acc: 0.9764 - mean_absolute_error: 0.0335 - mean_squared_error: 0.0104 - val_loss: 0.0576 - val_acc: 1.0000 - val_mean_absolute_error: 0.0338 - val_mean_squared_error: 0.0073\n",
            "Epoch 114/200\n",
            "127/127 [==============================] - 0s 1ms/sample - loss: 0.0644 - acc: 0.9764 - mean_absolute_error: 0.0309 - mean_squared_error: 0.0104 - val_loss: 0.0545 - val_acc: 1.0000 - val_mean_absolute_error: 0.0320 - val_mean_squared_error: 0.0068\n",
            "Epoch 115/200\n",
            "127/127 [==============================] - 0s 1ms/sample - loss: 0.0831 - acc: 0.9606 - mean_absolute_error: 0.0360 - mean_squared_error: 0.0156 - val_loss: 0.0557 - val_acc: 1.0000 - val_mean_absolute_error: 0.0322 - val_mean_squared_error: 0.0074\n",
            "Epoch 116/200\n",
            "127/127 [==============================] - 0s 1ms/sample - loss: 0.0845 - acc: 0.9764 - mean_absolute_error: 0.0298 - mean_squared_error: 0.0134 - val_loss: 0.1243 - val_acc: 0.9565 - val_mean_absolute_error: 0.0538 - val_mean_squared_error: 0.0238\n",
            "Epoch 117/200\n",
            "127/127 [==============================] - 0s 1ms/sample - loss: 0.0969 - acc: 0.9685 - mean_absolute_error: 0.0358 - mean_squared_error: 0.0164 - val_loss: 0.0602 - val_acc: 1.0000 - val_mean_absolute_error: 0.0350 - val_mean_squared_error: 0.0080\n",
            "Epoch 118/200\n",
            "127/127 [==============================] - 0s 1ms/sample - loss: 0.0732 - acc: 0.9764 - mean_absolute_error: 0.0365 - mean_squared_error: 0.0124 - val_loss: 0.0587 - val_acc: 1.0000 - val_mean_absolute_error: 0.0342 - val_mean_squared_error: 0.0076\n",
            "Epoch 119/200\n",
            "127/127 [==============================] - 0s 1ms/sample - loss: 0.0654 - acc: 0.9764 - mean_absolute_error: 0.0322 - mean_squared_error: 0.0113 - val_loss: 0.0628 - val_acc: 0.9565 - val_mean_absolute_error: 0.0338 - val_mean_squared_error: 0.0104\n",
            "Epoch 120/200\n",
            "127/127 [==============================] - 0s 1ms/sample - loss: 0.0713 - acc: 0.9685 - mean_absolute_error: 0.0309 - mean_squared_error: 0.0126 - val_loss: 0.0571 - val_acc: 1.0000 - val_mean_absolute_error: 0.0328 - val_mean_squared_error: 0.0079\n",
            "Epoch 121/200\n",
            "127/127 [==============================] - 0s 1ms/sample - loss: 0.0635 - acc: 0.9764 - mean_absolute_error: 0.0330 - mean_squared_error: 0.0104 - val_loss: 0.0726 - val_acc: 0.9565 - val_mean_absolute_error: 0.0382 - val_mean_squared_error: 0.0132\n",
            "Epoch 122/200\n",
            "127/127 [==============================] - 0s 1ms/sample - loss: 0.0610 - acc: 0.9685 - mean_absolute_error: 0.0314 - mean_squared_error: 0.0105 - val_loss: 0.0566 - val_acc: 1.0000 - val_mean_absolute_error: 0.0316 - val_mean_squared_error: 0.0085\n",
            "Epoch 123/200\n",
            "127/127 [==============================] - 0s 1ms/sample - loss: 0.0717 - acc: 0.9685 - mean_absolute_error: 0.0299 - mean_squared_error: 0.0124 - val_loss: 0.0553 - val_acc: 1.0000 - val_mean_absolute_error: 0.0312 - val_mean_squared_error: 0.0081\n",
            "Epoch 124/200\n",
            "127/127 [==============================] - 0s 1ms/sample - loss: 0.0706 - acc: 0.9764 - mean_absolute_error: 0.0310 - mean_squared_error: 0.0120 - val_loss: 0.0596 - val_acc: 1.0000 - val_mean_absolute_error: 0.0330 - val_mean_squared_error: 0.0094\n",
            "Epoch 125/200\n",
            "127/127 [==============================] - 0s 1ms/sample - loss: 0.0860 - acc: 0.9685 - mean_absolute_error: 0.0325 - mean_squared_error: 0.0154 - val_loss: 0.0670 - val_acc: 0.9565 - val_mean_absolute_error: 0.0323 - val_mean_squared_error: 0.0131\n",
            "Epoch 126/200\n",
            "127/127 [==============================] - 0s 1ms/sample - loss: 0.0632 - acc: 0.9764 - mean_absolute_error: 0.0308 - mean_squared_error: 0.0115 - val_loss: 0.0756 - val_acc: 0.9565 - val_mean_absolute_error: 0.0398 - val_mean_squared_error: 0.0139\n",
            "Epoch 127/200\n",
            "127/127 [==============================] - 0s 1ms/sample - loss: 0.0803 - acc: 0.9606 - mean_absolute_error: 0.0377 - mean_squared_error: 0.0150 - val_loss: 0.0651 - val_acc: 0.9565 - val_mean_absolute_error: 0.0342 - val_mean_squared_error: 0.0114\n",
            "Epoch 128/200\n",
            "127/127 [==============================] - 0s 1ms/sample - loss: 0.0836 - acc: 0.9685 - mean_absolute_error: 0.0337 - mean_squared_error: 0.0150 - val_loss: 0.0670 - val_acc: 0.9565 - val_mean_absolute_error: 0.0349 - val_mean_squared_error: 0.0119\n",
            "Epoch 129/200\n",
            "127/127 [==============================] - 0s 1ms/sample - loss: 0.0711 - acc: 0.9685 - mean_absolute_error: 0.0358 - mean_squared_error: 0.0132 - val_loss: 0.0678 - val_acc: 1.0000 - val_mean_absolute_error: 0.0382 - val_mean_squared_error: 0.0104\n",
            "Epoch 130/200\n",
            "127/127 [==============================] - 0s 1ms/sample - loss: 0.0651 - acc: 0.9764 - mean_absolute_error: 0.0348 - mean_squared_error: 0.0107 - val_loss: 0.0609 - val_acc: 1.0000 - val_mean_absolute_error: 0.0348 - val_mean_squared_error: 0.0088\n",
            "Epoch 131/200\n",
            "127/127 [==============================] - 0s 1ms/sample - loss: 0.0606 - acc: 0.9843 - mean_absolute_error: 0.0304 - mean_squared_error: 0.0104 - val_loss: 0.0532 - val_acc: 1.0000 - val_mean_absolute_error: 0.0311 - val_mean_squared_error: 0.0069\n",
            "Epoch 132/200\n",
            "127/127 [==============================] - 0s 1ms/sample - loss: 0.0599 - acc: 0.9764 - mean_absolute_error: 0.0293 - mean_squared_error: 0.0101 - val_loss: 0.0532 - val_acc: 1.0000 - val_mean_absolute_error: 0.0300 - val_mean_squared_error: 0.0079\n",
            "Epoch 133/200\n",
            "127/127 [==============================] - 0s 1ms/sample - loss: 0.0622 - acc: 0.9764 - mean_absolute_error: 0.0283 - mean_squared_error: 0.0104 - val_loss: 0.0437 - val_acc: 1.0000 - val_mean_absolute_error: 0.0262 - val_mean_squared_error: 0.0047\n",
            "Epoch 134/200\n",
            "127/127 [==============================] - 0s 1ms/sample - loss: 0.0639 - acc: 0.9764 - mean_absolute_error: 0.0291 - mean_squared_error: 0.0112 - val_loss: 0.0417 - val_acc: 1.0000 - val_mean_absolute_error: 0.0249 - val_mean_squared_error: 0.0045\n",
            "Epoch 135/200\n",
            "127/127 [==============================] - 0s 1ms/sample - loss: 0.0582 - acc: 0.9685 - mean_absolute_error: 0.0277 - mean_squared_error: 0.0104 - val_loss: 0.0432 - val_acc: 1.0000 - val_mean_absolute_error: 0.0257 - val_mean_squared_error: 0.0049\n",
            "Epoch 136/200\n",
            "127/127 [==============================] - 0s 1ms/sample - loss: 0.0570 - acc: 0.9843 - mean_absolute_error: 0.0271 - mean_squared_error: 0.0095 - val_loss: 0.0450 - val_acc: 1.0000 - val_mean_absolute_error: 0.0263 - val_mean_squared_error: 0.0056\n",
            "Epoch 137/200\n",
            "127/127 [==============================] - 0s 1ms/sample - loss: 0.0609 - acc: 0.9685 - mean_absolute_error: 0.0299 - mean_squared_error: 0.0112 - val_loss: 0.0455 - val_acc: 1.0000 - val_mean_absolute_error: 0.0270 - val_mean_squared_error: 0.0053\n",
            "Epoch 138/200\n",
            "127/127 [==============================] - 0s 1ms/sample - loss: 0.0663 - acc: 0.9843 - mean_absolute_error: 0.0320 - mean_squared_error: 0.0119 - val_loss: 0.0523 - val_acc: 1.0000 - val_mean_absolute_error: 0.0299 - val_mean_squared_error: 0.0073\n",
            "Epoch 139/200\n",
            "127/127 [==============================] - 0s 1ms/sample - loss: 0.0698 - acc: 0.9685 - mean_absolute_error: 0.0282 - mean_squared_error: 0.0122 - val_loss: 0.0558 - val_acc: 0.9565 - val_mean_absolute_error: 0.0298 - val_mean_squared_error: 0.0095\n",
            "Epoch 140/200\n",
            "127/127 [==============================] - 0s 1ms/sample - loss: 0.0582 - acc: 0.9764 - mean_absolute_error: 0.0268 - mean_squared_error: 0.0102 - val_loss: 0.0580 - val_acc: 1.0000 - val_mean_absolute_error: 0.0316 - val_mean_squared_error: 0.0098\n",
            "Epoch 141/200\n",
            "127/127 [==============================] - 0s 1ms/sample - loss: 0.0708 - acc: 0.9764 - mean_absolute_error: 0.0308 - mean_squared_error: 0.0133 - val_loss: 0.0536 - val_acc: 1.0000 - val_mean_absolute_error: 0.0308 - val_mean_squared_error: 0.0075\n",
            "Epoch 142/200\n",
            "127/127 [==============================] - 0s 1ms/sample - loss: 0.0606 - acc: 0.9685 - mean_absolute_error: 0.0309 - mean_squared_error: 0.0108 - val_loss: 0.0510 - val_acc: 1.0000 - val_mean_absolute_error: 0.0296 - val_mean_squared_error: 0.0067\n",
            "Epoch 143/200\n",
            "127/127 [==============================] - 0s 1ms/sample - loss: 0.0593 - acc: 0.9685 - mean_absolute_error: 0.0299 - mean_squared_error: 0.0105 - val_loss: 0.0477 - val_acc: 1.0000 - val_mean_absolute_error: 0.0278 - val_mean_squared_error: 0.0062\n",
            "Epoch 144/200\n",
            "127/127 [==============================] - 0s 1ms/sample - loss: 0.0721 - acc: 0.9685 - mean_absolute_error: 0.0306 - mean_squared_error: 0.0140 - val_loss: 0.0596 - val_acc: 0.9565 - val_mean_absolute_error: 0.0313 - val_mean_squared_error: 0.0107\n",
            "Epoch 145/200\n",
            "127/127 [==============================] - 0s 1ms/sample - loss: 0.0592 - acc: 0.9764 - mean_absolute_error: 0.0273 - mean_squared_error: 0.0103 - val_loss: 0.0589 - val_acc: 1.0000 - val_mean_absolute_error: 0.0323 - val_mean_squared_error: 0.0098\n",
            "Epoch 146/200\n",
            "127/127 [==============================] - 0s 1ms/sample - loss: 0.0699 - acc: 0.9685 - mean_absolute_error: 0.0338 - mean_squared_error: 0.0133 - val_loss: 0.0535 - val_acc: 1.0000 - val_mean_absolute_error: 0.0311 - val_mean_squared_error: 0.0072\n",
            "Epoch 147/200\n",
            "127/127 [==============================] - 0s 1ms/sample - loss: 0.0580 - acc: 0.9843 - mean_absolute_error: 0.0295 - mean_squared_error: 0.0102 - val_loss: 0.0525 - val_acc: 1.0000 - val_mean_absolute_error: 0.0296 - val_mean_squared_error: 0.0079\n",
            "Epoch 148/200\n",
            "127/127 [==============================] - 0s 1ms/sample - loss: 0.0541 - acc: 0.9764 - mean_absolute_error: 0.0277 - mean_squared_error: 0.0093 - val_loss: 0.0495 - val_acc: 1.0000 - val_mean_absolute_error: 0.0289 - val_mean_squared_error: 0.0065\n",
            "Epoch 149/200\n",
            "127/127 [==============================] - 0s 1ms/sample - loss: 0.0630 - acc: 0.9764 - mean_absolute_error: 0.0271 - mean_squared_error: 0.0109 - val_loss: 0.0469 - val_acc: 1.0000 - val_mean_absolute_error: 0.0270 - val_mean_squared_error: 0.0064\n",
            "Epoch 150/200\n",
            "127/127 [==============================] - 0s 1ms/sample - loss: 0.0591 - acc: 0.9764 - mean_absolute_error: 0.0274 - mean_squared_error: 0.0105 - val_loss: 0.0467 - val_acc: 1.0000 - val_mean_absolute_error: 0.0268 - val_mean_squared_error: 0.0065\n",
            "Epoch 151/200\n",
            "127/127 [==============================] - 0s 1ms/sample - loss: 0.0713 - acc: 0.9685 - mean_absolute_error: 0.0299 - mean_squared_error: 0.0141 - val_loss: 0.0649 - val_acc: 0.9565 - val_mean_absolute_error: 0.0295 - val_mean_squared_error: 0.0139\n",
            "Epoch 152/200\n",
            "127/127 [==============================] - 0s 1ms/sample - loss: 0.1029 - acc: 0.9606 - mean_absolute_error: 0.0338 - mean_squared_error: 0.0190 - val_loss: 0.0653 - val_acc: 0.9565 - val_mean_absolute_error: 0.0332 - val_mean_squared_error: 0.0124\n",
            "Epoch 153/200\n",
            "127/127 [==============================] - 0s 1ms/sample - loss: 0.0693 - acc: 0.9685 - mean_absolute_error: 0.0337 - mean_squared_error: 0.0129 - val_loss: 0.0615 - val_acc: 1.0000 - val_mean_absolute_error: 0.0346 - val_mean_squared_error: 0.0095\n",
            "Epoch 154/200\n",
            "127/127 [==============================] - 0s 1ms/sample - loss: 0.0605 - acc: 0.9843 - mean_absolute_error: 0.0321 - mean_squared_error: 0.0104 - val_loss: 0.0589 - val_acc: 1.0000 - val_mean_absolute_error: 0.0334 - val_mean_squared_error: 0.0089\n",
            "Epoch 155/200\n",
            "127/127 [==============================] - 0s 1ms/sample - loss: 0.0591 - acc: 0.9764 - mean_absolute_error: 0.0289 - mean_squared_error: 0.0108 - val_loss: 0.0495 - val_acc: 1.0000 - val_mean_absolute_error: 0.0287 - val_mean_squared_error: 0.0067\n",
            "Epoch 156/200\n",
            "127/127 [==============================] - 0s 1ms/sample - loss: 0.0565 - acc: 0.9764 - mean_absolute_error: 0.0284 - mean_squared_error: 0.0101 - val_loss: 0.0455 - val_acc: 1.0000 - val_mean_absolute_error: 0.0266 - val_mean_squared_error: 0.0059\n",
            "Epoch 157/200\n",
            "127/127 [==============================] - 0s 1ms/sample - loss: 0.0685 - acc: 0.9685 - mean_absolute_error: 0.0306 - mean_squared_error: 0.0132 - val_loss: 0.0499 - val_acc: 1.0000 - val_mean_absolute_error: 0.0275 - val_mean_squared_error: 0.0080\n",
            "Epoch 158/200\n",
            "127/127 [==============================] - 0s 1ms/sample - loss: 0.0905 - acc: 0.9685 - mean_absolute_error: 0.0284 - mean_squared_error: 0.0168 - val_loss: 0.0650 - val_acc: 0.9565 - val_mean_absolute_error: 0.0290 - val_mean_squared_error: 0.0142\n",
            "Epoch 159/200\n",
            "127/127 [==============================] - 0s 1ms/sample - loss: 0.0742 - acc: 0.9764 - mean_absolute_error: 0.0293 - mean_squared_error: 0.0127 - val_loss: 0.0598 - val_acc: 1.0000 - val_mean_absolute_error: 0.0329 - val_mean_squared_error: 0.0099\n",
            "Epoch 160/200\n",
            "127/127 [==============================] - 0s 1ms/sample - loss: 0.0730 - acc: 0.9685 - mean_absolute_error: 0.0349 - mean_squared_error: 0.0141 - val_loss: 0.0618 - val_acc: 1.0000 - val_mean_absolute_error: 0.0344 - val_mean_squared_error: 0.0101\n",
            "Epoch 161/200\n",
            "127/127 [==============================] - 0s 1ms/sample - loss: 0.0591 - acc: 0.9764 - mean_absolute_error: 0.0301 - mean_squared_error: 0.0105 - val_loss: 0.0602 - val_acc: 1.0000 - val_mean_absolute_error: 0.0328 - val_mean_squared_error: 0.0103\n",
            "Epoch 162/200\n",
            "127/127 [==============================] - 0s 1ms/sample - loss: 0.0619 - acc: 0.9685 - mean_absolute_error: 0.0310 - mean_squared_error: 0.0117 - val_loss: 0.0605 - val_acc: 0.9565 - val_mean_absolute_error: 0.0296 - val_mean_squared_error: 0.0121\n",
            "Epoch 163/200\n",
            "127/127 [==============================] - 0s 1ms/sample - loss: 0.0805 - acc: 0.9685 - mean_absolute_error: 0.0277 - mean_squared_error: 0.0148 - val_loss: 0.0600 - val_acc: 0.9565 - val_mean_absolute_error: 0.0300 - val_mean_squared_error: 0.0117\n",
            "Epoch 164/200\n",
            "127/127 [==============================] - 0s 1ms/sample - loss: 0.0625 - acc: 0.9764 - mean_absolute_error: 0.0294 - mean_squared_error: 0.0116 - val_loss: 0.0719 - val_acc: 0.9565 - val_mean_absolute_error: 0.0371 - val_mean_squared_error: 0.0140\n",
            "Epoch 165/200\n",
            "127/127 [==============================] - 0s 1ms/sample - loss: 0.0595 - acc: 0.9843 - mean_absolute_error: 0.0306 - mean_squared_error: 0.0105 - val_loss: 0.0531 - val_acc: 1.0000 - val_mean_absolute_error: 0.0306 - val_mean_squared_error: 0.0075\n",
            "Epoch 166/200\n",
            "127/127 [==============================] - 0s 1ms/sample - loss: 0.0638 - acc: 0.9764 - mean_absolute_error: 0.0270 - mean_squared_error: 0.0113 - val_loss: 0.0530 - val_acc: 1.0000 - val_mean_absolute_error: 0.0299 - val_mean_squared_error: 0.0081\n",
            "Epoch 167/200\n",
            "127/127 [==============================] - 0s 1ms/sample - loss: 0.0684 - acc: 0.9685 - mean_absolute_error: 0.0319 - mean_squared_error: 0.0134 - val_loss: 0.0505 - val_acc: 1.0000 - val_mean_absolute_error: 0.0293 - val_mean_squared_error: 0.0069\n",
            "Epoch 168/200\n",
            "127/127 [==============================] - 0s 1ms/sample - loss: 0.0798 - acc: 0.9685 - mean_absolute_error: 0.0291 - mean_squared_error: 0.0146 - val_loss: 0.0622 - val_acc: 0.9565 - val_mean_absolute_error: 0.0302 - val_mean_squared_error: 0.0126\n",
            "Epoch 169/200\n",
            "127/127 [==============================] - 0s 1ms/sample - loss: 0.0625 - acc: 0.9685 - mean_absolute_error: 0.0279 - mean_squared_error: 0.0122 - val_loss: 0.0526 - val_acc: 1.0000 - val_mean_absolute_error: 0.0297 - val_mean_squared_error: 0.0079\n",
            "Epoch 170/200\n",
            "127/127 [==============================] - 0s 1ms/sample - loss: 0.0627 - acc: 0.9764 - mean_absolute_error: 0.0312 - mean_squared_error: 0.0116 - val_loss: 0.0597 - val_acc: 1.0000 - val_mean_absolute_error: 0.0332 - val_mean_squared_error: 0.0097\n",
            "Epoch 171/200\n",
            "127/127 [==============================] - 0s 1ms/sample - loss: 0.0596 - acc: 0.9764 - mean_absolute_error: 0.0284 - mean_squared_error: 0.0111 - val_loss: 0.0550 - val_acc: 1.0000 - val_mean_absolute_error: 0.0314 - val_mean_squared_error: 0.0081\n",
            "Epoch 172/200\n",
            "127/127 [==============================] - 0s 1ms/sample - loss: 0.0552 - acc: 0.9843 - mean_absolute_error: 0.0272 - mean_squared_error: 0.0099 - val_loss: 0.0482 - val_acc: 1.0000 - val_mean_absolute_error: 0.0278 - val_mean_squared_error: 0.0067\n",
            "Epoch 173/200\n",
            "127/127 [==============================] - 0s 1ms/sample - loss: 0.0625 - acc: 0.9843 - mean_absolute_error: 0.0279 - mean_squared_error: 0.0114 - val_loss: 0.0590 - val_acc: 0.9565 - val_mean_absolute_error: 0.0308 - val_mean_squared_error: 0.0109\n",
            "Epoch 174/200\n",
            "127/127 [==============================] - 0s 1ms/sample - loss: 0.0804 - acc: 0.9685 - mean_absolute_error: 0.0277 - mean_squared_error: 0.0148 - val_loss: 0.0614 - val_acc: 0.9565 - val_mean_absolute_error: 0.0294 - val_mean_squared_error: 0.0127\n",
            "Epoch 175/200\n",
            "127/127 [==============================] - 0s 933us/sample - loss: 0.0835 - acc: 0.9685 - mean_absolute_error: 0.0344 - mean_squared_error: 0.0167 - val_loss: 0.0590 - val_acc: 1.0000 - val_mean_absolute_error: 0.0324 - val_mean_squared_error: 0.0099\n",
            "Epoch 176/200\n",
            "127/127 [==============================] - 0s 966us/sample - loss: 0.0717 - acc: 0.9606 - mean_absolute_error: 0.0301 - mean_squared_error: 0.0140 - val_loss: 0.0674 - val_acc: 0.9565 - val_mean_absolute_error: 0.0331 - val_mean_squared_error: 0.0135\n",
            "Epoch 177/200\n",
            "127/127 [==============================] - 0s 970us/sample - loss: 0.0697 - acc: 0.9685 - mean_absolute_error: 0.0302 - mean_squared_error: 0.0136 - val_loss: 0.0726 - val_acc: 1.0000 - val_mean_absolute_error: 0.0393 - val_mean_squared_error: 0.0131\n",
            "Epoch 178/200\n",
            "127/127 [==============================] - 0s 1ms/sample - loss: 0.0641 - acc: 0.9764 - mean_absolute_error: 0.0340 - mean_squared_error: 0.0112 - val_loss: 0.0646 - val_acc: 1.0000 - val_mean_absolute_error: 0.0362 - val_mean_squared_error: 0.0103\n",
            "Epoch 179/200\n",
            "127/127 [==============================] - 0s 981us/sample - loss: 0.0625 - acc: 0.9764 - mean_absolute_error: 0.0313 - mean_squared_error: 0.0118 - val_loss: 0.0632 - val_acc: 1.0000 - val_mean_absolute_error: 0.0346 - val_mean_squared_error: 0.0109\n",
            "Epoch 180/200\n",
            "127/127 [==============================] - 0s 1ms/sample - loss: 0.0573 - acc: 0.9764 - mean_absolute_error: 0.0274 - mean_squared_error: 0.0108 - val_loss: 0.0525 - val_acc: 1.0000 - val_mean_absolute_error: 0.0300 - val_mean_squared_error: 0.0077\n",
            "Epoch 181/200\n",
            "127/127 [==============================] - 0s 1ms/sample - loss: 0.0540 - acc: 0.9843 - mean_absolute_error: 0.0274 - mean_squared_error: 0.0098 - val_loss: 0.0478 - val_acc: 1.0000 - val_mean_absolute_error: 0.0270 - val_mean_squared_error: 0.0072\n",
            "Epoch 182/200\n",
            "127/127 [==============================] - 0s 1ms/sample - loss: 0.0522 - acc: 0.9843 - mean_absolute_error: 0.0253 - mean_squared_error: 0.0097 - val_loss: 0.0435 - val_acc: 1.0000 - val_mean_absolute_error: 0.0254 - val_mean_squared_error: 0.0056\n",
            "Epoch 183/200\n",
            "127/127 [==============================] - 0s 1ms/sample - loss: 0.0554 - acc: 0.9764 - mean_absolute_error: 0.0264 - mean_squared_error: 0.0106 - val_loss: 0.0466 - val_acc: 1.0000 - val_mean_absolute_error: 0.0270 - val_mean_squared_error: 0.0064\n",
            "Epoch 184/200\n",
            "127/127 [==============================] - 0s 1ms/sample - loss: 0.0579 - acc: 0.9843 - mean_absolute_error: 0.0251 - mean_squared_error: 0.0106 - val_loss: 0.0446 - val_acc: 1.0000 - val_mean_absolute_error: 0.0255 - val_mean_squared_error: 0.0065\n",
            "Epoch 185/200\n",
            "127/127 [==============================] - 0s 1ms/sample - loss: 0.0526 - acc: 0.9764 - mean_absolute_error: 0.0256 - mean_squared_error: 0.0100 - val_loss: 0.0444 - val_acc: 1.0000 - val_mean_absolute_error: 0.0260 - val_mean_squared_error: 0.0058\n",
            "Epoch 186/200\n",
            "127/127 [==============================] - 0s 1ms/sample - loss: 0.0498 - acc: 0.9843 - mean_absolute_error: 0.0242 - mean_squared_error: 0.0091 - val_loss: 0.0448 - val_acc: 1.0000 - val_mean_absolute_error: 0.0251 - val_mean_squared_error: 0.0071\n",
            "Epoch 187/200\n",
            "127/127 [==============================] - 0s 1ms/sample - loss: 0.0630 - acc: 0.9685 - mean_absolute_error: 0.0291 - mean_squared_error: 0.0133 - val_loss: 0.0483 - val_acc: 1.0000 - val_mean_absolute_error: 0.0269 - val_mean_squared_error: 0.0077\n",
            "Epoch 188/200\n",
            "127/127 [==============================] - 0s 1ms/sample - loss: 0.0530 - acc: 0.9843 - mean_absolute_error: 0.0235 - mean_squared_error: 0.0097 - val_loss: 0.0751 - val_acc: 0.9565 - val_mean_absolute_error: 0.0360 - val_mean_squared_error: 0.0162\n",
            "Epoch 189/200\n",
            "127/127 [==============================] - 0s 1ms/sample - loss: 0.0793 - acc: 0.9843 - mean_absolute_error: 0.0288 - mean_squared_error: 0.0131 - val_loss: 0.0606 - val_acc: 0.9565 - val_mean_absolute_error: 0.0276 - val_mean_squared_error: 0.0133\n",
            "Epoch 190/200\n",
            "127/127 [==============================] - 0s 1ms/sample - loss: 0.0736 - acc: 0.9685 - mean_absolute_error: 0.0256 - mean_squared_error: 0.0136 - val_loss: 0.0588 - val_acc: 0.9565 - val_mean_absolute_error: 0.0297 - val_mean_squared_error: 0.0115\n",
            "Epoch 191/200\n",
            "127/127 [==============================] - 0s 1ms/sample - loss: 0.0865 - acc: 0.9685 - mean_absolute_error: 0.0339 - mean_squared_error: 0.0175 - val_loss: 0.0504 - val_acc: 1.0000 - val_mean_absolute_error: 0.0285 - val_mean_squared_error: 0.0076\n",
            "Epoch 192/200\n",
            "127/127 [==============================] - 0s 1ms/sample - loss: 0.0766 - acc: 0.9764 - mean_absolute_error: 0.0278 - mean_squared_error: 0.0128 - val_loss: 0.1739 - val_acc: 0.9130 - val_mean_absolute_error: 0.0790 - val_mean_squared_error: 0.0388\n",
            "Epoch 193/200\n",
            "127/127 [==============================] - 0s 1ms/sample - loss: 0.0972 - acc: 0.9606 - mean_absolute_error: 0.0349 - mean_squared_error: 0.0185 - val_loss: 0.0636 - val_acc: 1.0000 - val_mean_absolute_error: 0.0349 - val_mean_squared_error: 0.0110\n",
            "Epoch 194/200\n",
            "127/127 [==============================] - 0s 1ms/sample - loss: 0.0634 - acc: 0.9843 - mean_absolute_error: 0.0331 - mean_squared_error: 0.0114 - val_loss: 0.0550 - val_acc: 1.0000 - val_mean_absolute_error: 0.0307 - val_mean_squared_error: 0.0088\n",
            "Epoch 195/200\n",
            "127/127 [==============================] - 0s 1ms/sample - loss: 0.0589 - acc: 0.9764 - mean_absolute_error: 0.0297 - mean_squared_error: 0.0115 - val_loss: 0.0576 - val_acc: 0.9565 - val_mean_absolute_error: 0.0302 - val_mean_squared_error: 0.0107\n",
            "Epoch 196/200\n",
            "127/127 [==============================] - 0s 1ms/sample - loss: 0.0619 - acc: 0.9685 - mean_absolute_error: 0.0261 - mean_squared_error: 0.0116 - val_loss: 0.0501 - val_acc: 1.0000 - val_mean_absolute_error: 0.0276 - val_mean_squared_error: 0.0084\n",
            "Epoch 197/200\n",
            "127/127 [==============================] - 0s 1ms/sample - loss: 0.0531 - acc: 0.9843 - mean_absolute_error: 0.0266 - mean_squared_error: 0.0100 - val_loss: 0.0460 - val_acc: 1.0000 - val_mean_absolute_error: 0.0262 - val_mean_squared_error: 0.0067\n",
            "Epoch 198/200\n",
            "127/127 [==============================] - 0s 1ms/sample - loss: 0.0535 - acc: 0.9843 - mean_absolute_error: 0.0252 - mean_squared_error: 0.0099 - val_loss: 0.0462 - val_acc: 1.0000 - val_mean_absolute_error: 0.0257 - val_mean_squared_error: 0.0075\n",
            "Epoch 199/200\n",
            "127/127 [==============================] - 0s 1ms/sample - loss: 0.0501 - acc: 0.9764 - mean_absolute_error: 0.0246 - mean_squared_error: 0.0095 - val_loss: 0.0412 - val_acc: 1.0000 - val_mean_absolute_error: 0.0242 - val_mean_squared_error: 0.0052\n",
            "Epoch 200/200\n",
            "127/127 [==============================] - 0s 1ms/sample - loss: 0.0528 - acc: 0.9843 - mean_absolute_error: 0.0241 - mean_squared_error: 0.0100 - val_loss: 0.0430 - val_acc: 1.0000 - val_mean_absolute_error: 0.0241 - val_mean_squared_error: 0.0067\n"
          ],
          "name": "stdout"
        }
      ]
    },
    {
      "cell_type": "code",
      "metadata": {
        "id": "C8IywjlsRgik",
        "colab_type": "code",
        "outputId": "d03e5294-3b93-41a0-f13a-6e32f965b388",
        "colab": {
          "base_uri": "https://localhost:8080/",
          "height": 519
        }
      },
      "source": [
        "# evaluate the model\n",
        "acc_on_train(X_train_new,y_train_new,model)\n",
        "acc_on_test(X_test_new,y_test_new,model)\n",
        "plot_accuracy_loss(history)"
      ],
      "execution_count": 0,
      "outputs": [
        {
          "output_type": "stream",
          "text": [
            "CPU times: user 3 µs, sys: 0 ns, total: 3 µs\n",
            "Wall time: 6.44 µs\n",
            "Accuracy on trian data: 97.64%\n",
            "MAE on train data: 2.37%\n",
            "MSE on train data: 0.93%\n",
            "\n",
            "\n",
            "CPU times: user 3 µs, sys: 0 ns, total: 3 µs\n",
            "Wall time: 5.96 µs\n",
            "Accuracy on test data: 100.00%\n",
            "MAE on test data: 2.41%\n",
            "MSE on test data: 0.67%\n",
            "\n",
            "\n"
          ],
          "name": "stdout"
        },
        {
          "output_type": "display_data",
          "data": {
            "image/png": "[encoded data removed]",
            "text/plain": [
              "<Figure size 432x288 with 2 Axes>"
            ]
          },
          "metadata": {
            "tags": []
          }
        }
      ]
    }
  ]
}